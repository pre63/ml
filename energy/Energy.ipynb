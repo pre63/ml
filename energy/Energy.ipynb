{
  "cells": [
    {
      "cell_type": "markdown",
      "metadata": {
        "id": "yMN0VcJdBuQq"
      },
      "source": []
    },
    {
      "cell_type": "code",
      "execution_count": 1,
      "metadata": {
        "colab": {
          "base_uri": "https://localhost:8080/"
        },
        "id": "MVAN6R9RItYe",
        "outputId": "cd0898f6-aefb-4ec4-bfec-3125964e52f9"
      },
      "outputs": [],
      "source": [
        "# !pip install matplotlib jaxlib equinox wandb"
      ]
    },
    {
      "cell_type": "code",
      "execution_count": 2,
      "metadata": {
        "id": "M70R2FZxKIRT"
      },
      "outputs": [
        {
          "name": "stderr",
          "output_type": "stream",
          "text": [
            "Failed to detect the name of this notebook, you can set it manually with the WANDB_NOTEBOOK_NAME environment variable to enable code saving.\n",
            "\u001b[34m\u001b[1mwandb\u001b[0m: Currently logged in as: \u001b[33mpre63\u001b[0m. Use \u001b[1m`wandb login --relogin`\u001b[0m to force relogin\n"
          ]
        },
        {
          "data": {
            "text/html": [
              "wandb version 0.17.3 is available!  To upgrade, please run:\n",
              " $ pip install wandb --upgrade"
            ],
            "text/plain": [
              "<IPython.core.display.HTML object>"
            ]
          },
          "metadata": {},
          "output_type": "display_data"
        },
        {
          "data": {
            "text/html": [
              "Tracking run with wandb version 0.16.6"
            ],
            "text/plain": [
              "<IPython.core.display.HTML object>"
            ]
          },
          "metadata": {},
          "output_type": "display_data"
        },
        {
          "data": {
            "text/html": [
              "Run data is saved locally in <code>/Users/dach/dev/ml/energy/wandb/run-20240630_111851-evt4i3b5</code>"
            ],
            "text/plain": [
              "<IPython.core.display.HTML object>"
            ]
          },
          "metadata": {},
          "output_type": "display_data"
        },
        {
          "data": {
            "text/html": [
              "Syncing run <strong><a href='https://wandb.ai/pre63/HN/runs/evt4i3b5' target=\"_blank\">peachy-violet-3</a></strong> to <a href='https://wandb.ai/pre63/HN' target=\"_blank\">Weights & Biases</a> (<a href='https://wandb.me/run' target=\"_blank\">docs</a>)<br/>"
            ],
            "text/plain": [
              "<IPython.core.display.HTML object>"
            ]
          },
          "metadata": {},
          "output_type": "display_data"
        },
        {
          "data": {
            "text/html": [
              " View project at <a href='https://wandb.ai/pre63/HN' target=\"_blank\">https://wandb.ai/pre63/HN</a>"
            ],
            "text/plain": [
              "<IPython.core.display.HTML object>"
            ]
          },
          "metadata": {},
          "output_type": "display_data"
        },
        {
          "data": {
            "text/html": [
              " View run at <a href='https://wandb.ai/pre63/HN/runs/evt4i3b5' target=\"_blank\">https://wandb.ai/pre63/HN/runs/evt4i3b5</a>"
            ],
            "text/plain": [
              "<IPython.core.display.HTML object>"
            ]
          },
          "metadata": {},
          "output_type": "display_data"
        },
        {
          "data": {
            "text/html": [
              "<button onClick=\"this.nextSibling.style.display='block';this.style.display='none';\">Display W&B run</button><iframe src='https://wandb.ai/pre63/HN/runs/evt4i3b5?jupyter=true' style='border:none;width:100%;height:420px;display:none;'></iframe>"
            ],
            "text/plain": [
              "<wandb.sdk.wandb_run.Run at 0x11b2e7a70>"
            ]
          },
          "execution_count": 2,
          "metadata": {},
          "output_type": "execute_result"
        }
      ],
      "source": [
        "import os\n",
        "import wandb\n",
        "\n",
        "os.environ[\"WANDB_API_KEY\"] = \"\"\n",
        "wandb.init(project=\"HN\")"
      ]
    },
    {
      "cell_type": "code",
      "execution_count": 3,
      "metadata": {
        "id": "skc-H54A_1ri"
      },
      "outputs": [],
      "source": [
        "# Standard imports\n",
        "import math\n",
        "from typing import List\n",
        "\n",
        "# JAX imports\n",
        "import jax\n",
        "from jax import numpy as jnp\n",
        "import jax.lax as lax\n",
        "import jax.random as jrandom\n",
        "import jax.random as jr\n",
        "\n",
        "# Equinox import\n",
        "import equinox as eqx\n",
        "\n",
        "# WandB import\n",
        "import wandb\n",
        "\n",
        "# Matplotlib import\n",
        "import matplotlib.pyplot as plt\n",
        "\n",
        "# Dataclass import\n",
        "from dataclasses import dataclass\n"
      ]
    },
    {
      "cell_type": "code",
      "execution_count": 4,
      "metadata": {
        "colab": {
          "base_uri": "https://localhost:8080/"
        },
        "id": "uwFYrGQXSsnt",
        "outputId": "288f1f63-e87e-4b63-e749-d67129f05373"
      },
      "outputs": [
        {
          "name": "stdout",
          "output_type": "stream",
          "text": [
            "cpu\n",
            "[CpuDevice(id=0)]\n"
          ]
        }
      ],
      "source": [
        "from jax.lib import xla_bridge\n",
        "print(xla_bridge.get_backend().platform)\n",
        "print(jax.devices())"
      ]
    },
    {
      "cell_type": "code",
      "execution_count": 5,
      "metadata": {
        "id": "DGrvKsrTABoq"
      },
      "outputs": [],
      "source": [
        "key = jax.random.PRNGKey(2000)"
      ]
    },
    {
      "cell_type": "code",
      "execution_count": 6,
      "metadata": {
        "colab": {
          "base_uri": "https://localhost:8080/"
        },
        "id": "hLg7ofPkADh9",
        "outputId": "b1af89bf-4459-48d1-ba08-3c18cb06aa7d"
      },
      "outputs": [
        {
          "name": "stdout",
          "output_type": "stream",
          "text": [
            "(2000, 2)\n",
            "(2000, 2)\n"
          ]
        }
      ],
      "source": [
        "key, subkey1, subkey2 = jax.random.split(key, 3)\n",
        "\n",
        "data_set_size = 2_000\n",
        "data = jnp.concatenate((-0.5 + 0.2 * jax.random.normal(subkey1, (int(data_set_size * 1/5), 2)),\n",
        "                         0.5 + 0.2 * jax.random.normal(subkey2, (int(data_set_size * 4/5), 2))), axis=0)\n",
        "\n",
        "print(data.shape)\n",
        "\n",
        "# Set the number of projections\n",
        "num_projections = 2\n",
        "\n",
        "# Generate random projection vectors\n",
        "key, subkey = jax.random.split(key)\n",
        "projection_vectors = jax.random.normal(subkey, (num_projections, data.shape[1]))\n",
        "\n",
        "# Normalize the projection vectors\n",
        "projection_vectors /= jnp.linalg.norm(projection_vectors, axis=1, keepdims=True)\n",
        "\n",
        "# Project data onto each random vector\n",
        "data = [jnp.dot(data, v) for v in projection_vectors]\n",
        "\n",
        "data = jnp.stack(data, axis=1)\n",
        "\n",
        "print(data.shape)"
      ]
    },
    {
      "cell_type": "code",
      "execution_count": null,
      "metadata": {},
      "outputs": [],
      "source": []
    },
    {
      "cell_type": "code",
      "execution_count": 7,
      "metadata": {
        "colab": {
          "base_uri": "https://localhost:8080/",
          "height": 430
        },
        "id": "ceWJLlwtAFFD",
        "outputId": "50dca6aa-68e9-4cf5-8266-975f4bc50775"
      },
      "outputs": [
        {
          "data": {
            "image/png": "[encoded data removed]",
            "text/plain": [
              "<Figure size 640x480 with 1 Axes>"
            ]
          },
          "metadata": {},
          "output_type": "display_data"
        }
      ],
      "source": [
        "plt.scatter(data[:, 0], data[:, 1], s=3, label=\"Data\")\n",
        "plt.legend()\n",
        "plt.show()"
      ]
    },
    {
      "cell_type": "markdown",
      "metadata": {
        "id": "Msl1z5LkCfqq"
      },
      "source": [
        "## Training\n"
      ]
    },
    {
      "cell_type": "code",
      "execution_count": 8,
      "metadata": {},
      "outputs": [],
      "source": [
        "\n",
        "from flowMC.nfmodel.realNVP import RealNVP\n",
        "from flowMC.nfmodel.rqSpline import MaskedCouplingRQSpline\n",
        "\n",
        "import optax  # Optimizers"
      ]
    },
    {
      "cell_type": "code",
      "execution_count": 9,
      "metadata": {},
      "outputs": [],
      "source": [
        "# Model parameters\n",
        "n_feature = 2\n",
        "n_layers = 10\n",
        "n_hidden = 100\n",
        "\n",
        "\n",
        "model = RealNVP(\n",
        "    n_feature,\n",
        "    n_layers,\n",
        "    n_hidden,\n",
        "    subkey1,\n",
        "    data_mean=jnp.mean(data, axis=0),\n",
        "    data_cov=jnp.cov(data.T),\n",
        ")"
      ]
    },
    {
      "cell_type": "code",
      "execution_count": 10,
      "metadata": {},
      "outputs": [
        {
          "name": "stderr",
          "output_type": "stream",
          "text": [
            "Training NF, current loss: 1.453: 100%|██████████| 100/100 [00:07<00:00, 13.29it/s]\n"
          ]
        }
      ],
      "source": [
        "# Optimization parameters\n",
        "num_epochs = 100\n",
        "batch_size = 10000\n",
        "learning_rate = 0.001\n",
        "momentum = 0.9\n",
        "\n",
        "optim = optax.adam(learning_rate)\n",
        "state = optim.init(eqx.filter(model, eqx.is_array))\n",
        "key, subkey = jax.random.split(key)\n",
        "key, model, state, loss = model.train(key, data, optim, state, num_epochs, batch_size, verbose=True)"
      ]
    },
    {
      "cell_type": "code",
      "execution_count": 11,
      "metadata": {},
      "outputs": [
        {
          "data": {
            "text/plain": [
              "Text(0, 0.5, 'Loss')"
            ]
          },
          "execution_count": 11,
          "metadata": {},
          "output_type": "execute_result"
        },
        {
          "data": {
            "image/png": "[encoded data removed]",
            "text/plain": [
              "<Figure size 640x480 with 1 Axes>"
            ]
          },
          "metadata": {},
          "output_type": "display_data"
        }
      ],
      "source": [
        "plt.plot(loss)\n",
        "plt.xlabel(\"Epoch\")\n",
        "plt.ylabel(\"Loss\")"
      ]
    },
    {
      "cell_type": "code",
      "execution_count": 12,
      "metadata": {},
      "outputs": [
        {
          "data": {
            "image/png": "[encoded data removed]",
            "text/plain": [
              "<Figure size 640x480 with 1 Axes>"
            ]
          },
          "metadata": {},
          "output_type": "display_data"
        }
      ],
      "source": [
        "nf_samples = model.sample(subkey, 10000)\n",
        "plt.figure()\n",
        "\n",
        "plt.scatter(\n",
        "    nf_samples[:, 0], nf_samples[:, 1], s=3, alpha=0.5, label=\"samples\"\n",
        ")\n",
        "\n",
        "plt.scatter(data[:, 0], data[:, 1], s=3, alpha=0.5, label=\"data\")\n",
        "\n",
        "plt.legend()\n",
        "plt.show()"
      ]
    },
    {
      "cell_type": "code",
      "execution_count": 17,
      "metadata": {
        "id": "aq69_EjuL6qV"
      },
      "outputs": [],
      "source": [
        "def ebm(x):\n",
        "    return x"
      ]
    },
    {
      "cell_type": "markdown",
      "metadata": {
        "id": "_alfJ-nDFb4z"
      },
      "source": [
        "## Plotting the training history"
      ]
    },
    {
      "cell_type": "code",
      "execution_count": 18,
      "metadata": {
        "id": "zXtAh5EFBmwf"
      },
      "outputs": [],
      "source": [
        "def get_energy_map(model, density=100, val=1.6):\n",
        "    xs = jnp.linspace(-val, val, density)\n",
        "    ys = jnp.linspace(-val, val, density)\n",
        "    X, Y = jnp.meshgrid(xs, ys)\n",
        "    XY = jnp.stack([X, Y], axis=-1)\n",
        "    XY = XY.reshape(-1, 2)\n",
        "    f_vectorized = jax.vmap(model, in_axes=(0))\n",
        "    Z = f_vectorized(XY)\n",
        "    Z = Z.reshape(100, 100)\n",
        "    return X, Y, Z\n",
        "\n",
        "def get_score_map(model, density=30, val=1.6):\n",
        "    xs = jnp.linspace(-val, val, density)\n",
        "    ys = jnp.linspace(-val, val, density)\n",
        "    X, Y = jnp.meshgrid(xs, ys)\n",
        "    XY = jnp.stack([X, Y], axis=-1)\n",
        "    XY = XY.reshape(-1, 2)\n",
        "    f_vectorized = jax.vmap(jax.grad(lambda x: -1 * model(x)), in_axes=(0))\n",
        "    Z = f_vectorized(XY)\n",
        "    Z = Z.reshape(density, density, 2)\n",
        "\n",
        "    return X, Y, Z"
      ]
    },
    {
      "cell_type": "code",
      "execution_count": 19,
      "metadata": {
        "colab": {
          "base_uri": "https://localhost:8080/",
          "height": 1000
        },
        "id": "N1vMu0lcBnMa",
        "outputId": "aa797f1a-ac9a-447c-81cc-bc747b346940"
      },
      "outputs": [
        {
          "ename": "TypeError",
          "evalue": "Gradient only defined for scalar-output functions. Output had shape: (2,).",
          "output_type": "error",
          "traceback": [
            "\u001b[0;31m---------------------------------------------------------------------------\u001b[0m",
            "\u001b[0;31mTypeError\u001b[0m                                 Traceback (most recent call last)",
            "\u001b[1;32m/Users/dach/dev/ml/energy/Energy.ipynb Cell 19\u001b[0m line \u001b[0;36m1\n\u001b[0;32m----> <a href='vscode-notebook-cell:/Users/dach/dev/ml/energy/Energy.ipynb#X21sZmlsZQ%3D%3D?line=0'>1</a>\u001b[0m X, Y, Z \u001b[39m=\u001b[39m get_score_map(ebm)\n\u001b[1;32m      <a href='vscode-notebook-cell:/Users/dach/dev/ml/energy/Energy.ipynb#X21sZmlsZQ%3D%3D?line=2'>3</a>\u001b[0m plt\u001b[39m.\u001b[39mfigure(figsize\u001b[39m=\u001b[39m(\u001b[39m10\u001b[39m, \u001b[39m10\u001b[39m))\n\u001b[1;32m      <a href='vscode-notebook-cell:/Users/dach/dev/ml/energy/Energy.ipynb#X21sZmlsZQ%3D%3D?line=3'>4</a>\u001b[0m plt\u001b[39m.\u001b[39mquiver(X, Y, Z[:,:,\u001b[39m0\u001b[39m], Z[:,:,\u001b[39m1\u001b[39m], color\u001b[39m=\u001b[39m\u001b[39m'\u001b[39m\u001b[39mg\u001b[39m\u001b[39m'\u001b[39m)\n",
            "\u001b[1;32m/Users/dach/dev/ml/energy/Energy.ipynb Cell 19\u001b[0m line \u001b[0;36m1\n\u001b[1;32m     <a href='vscode-notebook-cell:/Users/dach/dev/ml/energy/Energy.ipynb#X21sZmlsZQ%3D%3D?line=16'>17</a>\u001b[0m XY \u001b[39m=\u001b[39m XY\u001b[39m.\u001b[39mreshape(\u001b[39m-\u001b[39m\u001b[39m1\u001b[39m, \u001b[39m2\u001b[39m)\n\u001b[1;32m     <a href='vscode-notebook-cell:/Users/dach/dev/ml/energy/Energy.ipynb#X21sZmlsZQ%3D%3D?line=17'>18</a>\u001b[0m f_vectorized \u001b[39m=\u001b[39m jax\u001b[39m.\u001b[39mvmap(jax\u001b[39m.\u001b[39mgrad(\u001b[39mlambda\u001b[39;00m x: \u001b[39m-\u001b[39m\u001b[39m1\u001b[39m \u001b[39m*\u001b[39m model(x)), in_axes\u001b[39m=\u001b[39m(\u001b[39m0\u001b[39m))\n\u001b[0;32m---> <a href='vscode-notebook-cell:/Users/dach/dev/ml/energy/Energy.ipynb#X21sZmlsZQ%3D%3D?line=18'>19</a>\u001b[0m Z \u001b[39m=\u001b[39m f_vectorized(XY)\n\u001b[1;32m     <a href='vscode-notebook-cell:/Users/dach/dev/ml/energy/Energy.ipynb#X21sZmlsZQ%3D%3D?line=19'>20</a>\u001b[0m Z \u001b[39m=\u001b[39m Z\u001b[39m.\u001b[39mreshape(density, density, \u001b[39m2\u001b[39m)\n\u001b[1;32m     <a href='vscode-notebook-cell:/Users/dach/dev/ml/energy/Energy.ipynb#X21sZmlsZQ%3D%3D?line=21'>22</a>\u001b[0m \u001b[39mreturn\u001b[39;00m X, Y, Z\n",
            "    \u001b[0;31m[... skipping hidden 7 frame]\u001b[0m\n",
            "File \u001b[0;32m~/dev/ml/.venv/lib/python3.12/site-packages/jax/_src/api.py:715\u001b[0m, in \u001b[0;36m_check_scalar\u001b[0;34m(x)\u001b[0m\n\u001b[1;32m    713\u001b[0m \u001b[39mif\u001b[39;00m \u001b[39misinstance\u001b[39m(aval, ShapedArray):\n\u001b[1;32m    714\u001b[0m   \u001b[39mif\u001b[39;00m aval\u001b[39m.\u001b[39mshape \u001b[39m!=\u001b[39m ():\n\u001b[0;32m--> 715\u001b[0m     \u001b[39mraise\u001b[39;00m \u001b[39mTypeError\u001b[39;00m(msg(\u001b[39mf\u001b[39m\u001b[39m\"\u001b[39m\u001b[39mhad shape: \u001b[39m\u001b[39m{\u001b[39;00maval\u001b[39m.\u001b[39mshape\u001b[39m}\u001b[39;00m\u001b[39m\"\u001b[39m))\n\u001b[1;32m    716\u001b[0m \u001b[39melse\u001b[39;00m:\n\u001b[1;32m    717\u001b[0m   \u001b[39mraise\u001b[39;00m \u001b[39mTypeError\u001b[39;00m(msg(\u001b[39mf\u001b[39m\u001b[39m\"\u001b[39m\u001b[39mhad abstract value \u001b[39m\u001b[39m{\u001b[39;00maval\u001b[39m}\u001b[39;00m\u001b[39m\"\u001b[39m))\n",
            "\u001b[0;31mTypeError\u001b[0m: Gradient only defined for scalar-output functions. Output had shape: (2,)."
          ]
        }
      ],
      "source": [
        "X, Y, Z = get_score_map(ebm)\n",
        "\n",
        "plt.figure(figsize=(10, 10))\n",
        "plt.quiver(X, Y, Z[:,:,0], Z[:,:,1], color='g')\n",
        "plt.show()"
      ]
    },
    {
      "cell_type": "code",
      "execution_count": 20,
      "metadata": {},
      "outputs": [
        {
          "ename": "TypeError",
          "evalue": "cannot reshape array of shape (10000, 2) (size 20000) into shape (100, 100) (size 10000)",
          "output_type": "error",
          "traceback": [
            "\u001b[0;31m---------------------------------------------------------------------------\u001b[0m",
            "\u001b[0;31mTypeError\u001b[0m                                 Traceback (most recent call last)",
            "\u001b[1;32m/Users/dach/dev/ml/energy/Energy.ipynb Cell 20\u001b[0m line \u001b[0;36m1\n\u001b[0;32m----> <a href='vscode-notebook-cell:/Users/dach/dev/ml/energy/Energy.ipynb#X22sZmlsZQ%3D%3D?line=0'>1</a>\u001b[0m X, Y, Z \u001b[39m=\u001b[39m get_energy_map(ebm)\n\u001b[1;32m      <a href='vscode-notebook-cell:/Users/dach/dev/ml/energy/Energy.ipynb#X22sZmlsZQ%3D%3D?line=2'>3</a>\u001b[0m plt\u001b[39m.\u001b[39mfigure(figsize\u001b[39m=\u001b[39m(\u001b[39m10\u001b[39m, \u001b[39m10\u001b[39m))\n\u001b[1;32m      <a href='vscode-notebook-cell:/Users/dach/dev/ml/energy/Energy.ipynb#X22sZmlsZQ%3D%3D?line=3'>4</a>\u001b[0m plt\u001b[39m.\u001b[39mcontourf(X, Y, Z, \u001b[39m50\u001b[39m, cmap\u001b[39m=\u001b[39m\u001b[39m'\u001b[39m\u001b[39mviridis\u001b[39m\u001b[39m'\u001b[39m)\n",
            "\u001b[1;32m/Users/dach/dev/ml/energy/Energy.ipynb Cell 20\u001b[0m line \u001b[0;36m9\n\u001b[1;32m      <a href='vscode-notebook-cell:/Users/dach/dev/ml/energy/Energy.ipynb#X22sZmlsZQ%3D%3D?line=6'>7</a>\u001b[0m f_vectorized \u001b[39m=\u001b[39m jax\u001b[39m.\u001b[39mvmap(model, in_axes\u001b[39m=\u001b[39m(\u001b[39m0\u001b[39m))\n\u001b[1;32m      <a href='vscode-notebook-cell:/Users/dach/dev/ml/energy/Energy.ipynb#X22sZmlsZQ%3D%3D?line=7'>8</a>\u001b[0m Z \u001b[39m=\u001b[39m f_vectorized(XY)\n\u001b[0;32m----> <a href='vscode-notebook-cell:/Users/dach/dev/ml/energy/Energy.ipynb#X22sZmlsZQ%3D%3D?line=8'>9</a>\u001b[0m Z \u001b[39m=\u001b[39m Z\u001b[39m.\u001b[39;49mreshape(\u001b[39m100\u001b[39;49m, \u001b[39m100\u001b[39;49m)\n\u001b[1;32m     <a href='vscode-notebook-cell:/Users/dach/dev/ml/energy/Energy.ipynb#X22sZmlsZQ%3D%3D?line=9'>10</a>\u001b[0m \u001b[39mreturn\u001b[39;00m X, Y, Z\n",
            "    \u001b[0;31m[... skipping hidden 1 frame]\u001b[0m\n",
            "File \u001b[0;32m~/dev/ml/.venv/lib/python3.12/site-packages/jax/_src/numpy/array_methods.py:137\u001b[0m, in \u001b[0;36m_compute_newshape\u001b[0;34m(a, newshape)\u001b[0m\n\u001b[1;32m    134\u001b[0m \u001b[39melse\u001b[39;00m:\n\u001b[1;32m    135\u001b[0m   \u001b[39mif\u001b[39;00m (\u001b[39mall\u001b[39m(\u001b[39misinstance\u001b[39m(d, \u001b[39mint\u001b[39m) \u001b[39mfor\u001b[39;00m d \u001b[39min\u001b[39;00m (\u001b[39m*\u001b[39mnp\u001b[39m.\u001b[39mshape(a), \u001b[39m*\u001b[39mnewshape)) \u001b[39mand\u001b[39;00m\n\u001b[1;32m    136\u001b[0m       np\u001b[39m.\u001b[39msize(a) \u001b[39m!=\u001b[39m math\u001b[39m.\u001b[39mprod(newshape)):\n\u001b[0;32m--> 137\u001b[0m     \u001b[39mraise\u001b[39;00m \u001b[39mTypeError\u001b[39;00m(\u001b[39mf\u001b[39m\u001b[39m\"\u001b[39m\u001b[39mcannot reshape array of shape \u001b[39m\u001b[39m{\u001b[39;00mnp\u001b[39m.\u001b[39mshape(a)\u001b[39m}\u001b[39;00m\u001b[39m (size \u001b[39m\u001b[39m{\u001b[39;00mnp\u001b[39m.\u001b[39msize(a)\u001b[39m}\u001b[39;00m\u001b[39m) \u001b[39m\u001b[39m\"\u001b[39m\n\u001b[1;32m    138\u001b[0m                     \u001b[39mf\u001b[39m\u001b[39m\"\u001b[39m\u001b[39minto shape \u001b[39m\u001b[39m{\u001b[39;00morig_newshape\u001b[39m}\u001b[39;00m\u001b[39m (size \u001b[39m\u001b[39m{\u001b[39;00mmath\u001b[39m.\u001b[39mprod(newshape)\u001b[39m}\u001b[39;00m\u001b[39m)\u001b[39m\u001b[39m\"\u001b[39m)\n\u001b[1;32m    139\u001b[0m \u001b[39mreturn\u001b[39;00m \u001b[39mtuple\u001b[39m(\u001b[39m-\u001b[39mcore\u001b[39m.\u001b[39mdivide_shape_sizes(np\u001b[39m.\u001b[39mshape(a), newshape)\n\u001b[1;32m    140\u001b[0m              \u001b[39mif\u001b[39;00m core\u001b[39m.\u001b[39mdefinitely_equal(d, \u001b[39m-\u001b[39m\u001b[39m1\u001b[39m) \u001b[39melse\u001b[39;00m d \u001b[39mfor\u001b[39;00m d \u001b[39min\u001b[39;00m newshape)\n",
            "\u001b[0;31mTypeError\u001b[0m: cannot reshape array of shape (10000, 2) (size 20000) into shape (100, 100) (size 10000)"
          ]
        }
      ],
      "source": [
        "X, Y, Z = get_energy_map(ebm)\n",
        "\n",
        "plt.figure(figsize=(10, 10))\n",
        "plt.contourf(X, Y, Z, 50, cmap='viridis')\n",
        "plt.colorbar()\n",
        "plt.show()"
      ]
    },
    {
      "cell_type": "code",
      "execution_count": null,
      "metadata": {},
      "outputs": [],
      "source": []
    }
  ],
  "metadata": {
    "accelerator": "GPU",
    "colab": {
      "gpuType": "T4",
      "provenance": []
    },
    "kernelspec": {
      "display_name": "Python 3",
      "name": "python3"
    },
    "language_info": {
      "codemirror_mode": {
        "name": "ipython",
        "version": 3
      },
      "file_extension": ".py",
      "mimetype": "text/x-python",
      "name": "python",
      "nbconvert_exporter": "python",
      "pygments_lexer": "ipython3",
      "version": "3.12.3"
    }
  },
  "nbformat": 4,
  "nbformat_minor": 0
}
